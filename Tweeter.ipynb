{
 "cells": [
  {
   "cell_type": "code",
   "execution_count": null,
   "metadata": {},
   "outputs": [],
   "source": [
    "\n",
    "import tweepy, sys\n",
    "from tweepy.auth import OAuthHandler\n",
    "from textblob import TextBlob\n",
    "\n",
    "def percentage(part, whole):\n",
    "    return 100* float(part)/float(whole)\n",
    "\n",
    Tweeer IDs
    "\n",
    "auth = OAuthHandler(consumer_key, consumer_secret)\n",
    "auth.set_access_token(access_token, access_secret)\n",
    "\n",
    "api = tweepy.API(auth)\n",
    "\n",
    "search_item = input(\"Enter the text to search: \")\n",
    "no_of_items = int(input(\"Enter the number of tweets to be searched: \"))\n",
    "\n",
    "tweets = tweepy.Cursor(api.search, q=search_item, lang=\"English\").items(no_of_items)\n",
    "\n",
    "positive = 0\n",
    "negative = 0\n",
    "neutral = 0\n",
    "polarity = 0\n",
    "\n",
    "for tweet in tweets:\n",
    "    #print(tweet.text)\n",
    "    analysis = TextBlob(tweet.text)\n",
    "    polarity += analysis.sentiment.polarity\n",
    "    \n",
    "    if (analysis.sentiment.polarity == 0.00):\n",
    "        neutral += 1\n",
    "    elif (analysis.sentiment.polarity < 0.00):\n",
    "        negative += 1\n",
    "    elif (analysis.sentiment.polarity > 0.00):\n",
    "        positive += 1\n",
    "    \n",
    "positive = percentage(positive, no_of_items)\n",
    "negative = percentage(negative, no_of_items)\n",
    "neutral = percentage(neutral, no_of_items)\n",
    "\n",
    "##to format the decimal places - to have 2 decimal places\n",
    "\n",
    "positive = format(positive, '.2f')\n",
    "negative = format(negative, '.2f')\n",
    "neutral = format(neutral, '.2f')\n",
    "\n",
    "print(\"How people are reacting on \"  + search_item + \" by analyzing \" + str(no_of_items) + \" tweets.\" )\n",
    "\n",
    "if (polarity == 0):\n",
    "    print(\"Neutral\")\n",
    "elif (polarity < 0.00):\n",
    "    print(\"Negative\")\n",
    "elif (polarity > 0.00):\n",
    "    print(\"Positive\")\n"
   ]
  },
  {
   "cell_type": "code",
   "execution_count": null,
   "metadata": {},
   "outputs": [],
   "source": []
  },
  {
   "cell_type": "code",
   "execution_count": null,
   "metadata": {},
   "outputs": [],
   "source": []
  }
 ],
 "metadata": {
  "kernelspec": {
   "display_name": "Python 3",
   "language": "python",
   "name": "python3"
  },
  "language_info": {
   "codemirror_mode": {
    "name": "ipython",
    "version": 3
   },
   "file_extension": ".py",
   "mimetype": "text/x-python",
   "name": "python",
   "nbconvert_exporter": "python",
   "pygments_lexer": "ipython3",
   "version": "3.6.4"
  }
 },
 "nbformat": 4,
 "nbformat_minor": 2
}
